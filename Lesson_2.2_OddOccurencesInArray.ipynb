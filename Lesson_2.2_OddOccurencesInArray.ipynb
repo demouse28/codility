{
 "cells": [
  {
   "cell_type": "markdown",
   "id": "cdaf2af9",
   "metadata": {},
   "source": [
    "# OddOccurencesInArray"
   ]
  },
  {
   "cell_type": "markdown",
   "id": "539f126d",
   "metadata": {},
   "source": [
    "## Task"
   ]
  },
  {
   "cell_type": "markdown",
   "id": "9c39c605",
   "metadata": {},
   "source": [
    "A non-empty array A consisting of N integers is given. The array contains an odd number of elements, and each element of the array can be paired with another element that has the same value, except for one element that is left unpaired.\n",
    "\n",
    "For example, in array A such that:\n",
    "\n",
    "  A[0] = 9  A[1] = 3  A[2] = 9\n",
    "  A[3] = 3  A[4] = 9  A[5] = 7\n",
    "  A[6] = 9\n",
    "the elements at indexes 0 and 2 have value 9,\n",
    "the elements at indexes 1 and 3 have value 3,\n",
    "the elements at indexes 4 and 6 have value 9,\n",
    "the element at index 5 has value 7 and is unpaired.\n",
    "Write a function:\n",
    "\n",
    "def solution(A)\n",
    "\n",
    "that, given an array A consisting of N integers fulfilling the above conditions, returns the value of the unpaired element.\n",
    "\n",
    "For example, given array A such that:\n",
    "\n",
    "  A[0] = 9  A[1] = 3  A[2] = 9\n",
    "  A[3] = 3  A[4] = 9  A[5] = 7\n",
    "  A[6] = 9\n",
    "the function should return 7, as explained in the example above.\n",
    "\n",
    "Write an efficient algorithm for the following assumptions:\n",
    "\n",
    "N is an odd integer within the range [1..1,000,000];\n",
    "each element of array A is an integer within the range [1..1,000,000,000];\n",
    "all but one of the values in A occur an even number of times."
   ]
  },
  {
   "cell_type": "markdown",
   "id": "e0667323",
   "metadata": {},
   "source": [
    "## Solution"
   ]
  },
  {
   "cell_type": "code",
   "execution_count": 53,
   "id": "0dd5a7ef",
   "metadata": {},
   "outputs": [],
   "source": [
    "def solution(A):\n",
    "    \n",
    "    unpaired = set()\n",
    "    \n",
    "    for i in A:\n",
    "        if i in unpaired:\n",
    "            unpaired.remove(i)\n",
    "        else:\n",
    "            unpaired.add(i)\n",
    "            \n",
    "    return unpaired.pop()"
   ]
  },
  {
   "cell_type": "markdown",
   "id": "86b12e25",
   "metadata": {},
   "source": [
    "## Test"
   ]
  },
  {
   "cell_type": "code",
   "execution_count": 54,
   "id": "a5a3bc82",
   "metadata": {},
   "outputs": [
    {
     "data": {
      "text/plain": [
       "[9, 3, 9, 3, 9, 7, 9]"
      ]
     },
     "execution_count": 54,
     "metadata": {},
     "output_type": "execute_result"
    }
   ],
   "source": [
    "example = [9, 3, 9, 3, 9, 7, 9]\n",
    "example"
   ]
  },
  {
   "cell_type": "code",
   "execution_count": 55,
   "id": "61824278",
   "metadata": {},
   "outputs": [
    {
     "data": {
      "text/plain": [
       "7"
      ]
     },
     "execution_count": 55,
     "metadata": {},
     "output_type": "execute_result"
    }
   ],
   "source": [
    "solution(example)"
   ]
  }
 ],
 "metadata": {
  "kernelspec": {
   "display_name": "Python 3 (ipykernel)",
   "language": "python",
   "name": "python3"
  },
  "language_info": {
   "codemirror_mode": {
    "name": "ipython",
    "version": 3
   },
   "file_extension": ".py",
   "mimetype": "text/x-python",
   "name": "python",
   "nbconvert_exporter": "python",
   "pygments_lexer": "ipython3",
   "version": "3.9.12"
  }
 },
 "nbformat": 4,
 "nbformat_minor": 5
}
