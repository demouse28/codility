{
 "cells": [
  {
   "cell_type": "markdown",
   "id": "4550966e",
   "metadata": {},
   "source": [
    "# CyclicRotation"
   ]
  },
  {
   "cell_type": "markdown",
   "id": "50356d09",
   "metadata": {},
   "source": [
    "## Task"
   ]
  },
  {
   "cell_type": "markdown",
   "id": "eb22ba40",
   "metadata": {},
   "source": [
    "An array A consisting of N integers is given. Rotation of the array means that each element is shifted right by one index, and the last element of the array is moved to the first place. For example, the rotation of array A = [3, 8, 9, 7, 6] is [6, 3, 8, 9, 7] (elements are shifted right by one index and 6 is moved to the first place).\n",
    "\n",
    "The goal is to rotate array A K times; that is, each element of A will be shifted to the right K times.\n",
    "\n",
    "Write a function:\n",
    "\n",
    "def solution(A, K)\n",
    "\n",
    "that, given an array A consisting of N integers and an integer K, returns the array A rotated K times.\n",
    "\n",
    "For example, given\n",
    "\n",
    "    A = [3, 8, 9, 7, 6]\n",
    "    K = 3\n",
    "the function should return [9, 7, 6, 3, 8]. Three rotations were made:\n",
    "\n",
    "    [3, 8, 9, 7, 6] -> [6, 3, 8, 9, 7]\n",
    "    [6, 3, 8, 9, 7] -> [7, 6, 3, 8, 9]\n",
    "    [7, 6, 3, 8, 9] -> [9, 7, 6, 3, 8]\n",
    "For another example, given\n",
    "\n",
    "    A = [0, 0, 0]\n",
    "    K = 1\n",
    "the function should return [0, 0, 0]\n",
    "\n",
    "Given\n",
    "\n",
    "    A = [1, 2, 3, 4]\n",
    "    K = 4\n",
    "the function should return [1, 2, 3, 4]\n",
    "\n",
    "Assume that:\n",
    "\n",
    "N and K are integers within the range [0..100];\n",
    "each element of array A is an integer within the range [−1,000..1,000].\n",
    "In your solution, focus on correctness. The performance of your solution will not be the focus of the assessment."
   ]
  },
  {
   "cell_type": "markdown",
   "id": "83747742",
   "metadata": {},
   "source": [
    "## Solution"
   ]
  },
  {
   "cell_type": "code",
   "execution_count": 1,
   "id": "0d5b69e5",
   "metadata": {},
   "outputs": [],
   "source": [
    "def solution(A, K):\n",
    "    # Implement your solution here\n",
    "    \n",
    "    if not A:\n",
    "        \n",
    "        return []\n",
    "    \n",
    "    else:\n",
    "    \n",
    "        def rotate(li):\n",
    "            new_li = li[:]\n",
    "            new_li.append(new_li[-1])\n",
    "            x = 2\n",
    "            while x != len(new_li):\n",
    "                new_li[-x] = new_li[-(x + 1)]\n",
    "                x += 1\n",
    "            new_li[0] = new_li[-1]\n",
    "            new_li = new_li[:-1]\n",
    "            return new_li\n",
    "\n",
    "        for i in range(K):\n",
    "            A = rotate(A)\n",
    "\n",
    "        return A"
   ]
  },
  {
   "cell_type": "markdown",
   "id": "a6d75870",
   "metadata": {},
   "source": [
    "## Test"
   ]
  },
  {
   "cell_type": "code",
   "execution_count": 2,
   "id": "9c3f0716",
   "metadata": {},
   "outputs": [],
   "source": [
    "import pandas as pd\n",
    "\n",
    "def test(li):\n",
    "    \n",
    "    df = pd.DataFrame(columns = ['A', 'K', 'solution(A, K)'])\n",
    "    for i in li:\n",
    "        row = [i[0], i[1], solution(i[0], i[1])]\n",
    "        df.loc[len(df)] = row\n",
    "    \n",
    "    return(df)"
   ]
  },
  {
   "cell_type": "code",
   "execution_count": 3,
   "id": "2a9a6025",
   "metadata": {},
   "outputs": [],
   "source": [
    "example = [\n",
    "    [[3, 8, 9, 7, 6], 3],\n",
    "    [[0, 0, 0], 1],\n",
    "    [[1, 2, 3, 4], 4]\n",
    "]"
   ]
  },
  {
   "cell_type": "code",
   "execution_count": 4,
   "id": "5093f82b",
   "metadata": {},
   "outputs": [
    {
     "data": {
      "text/html": [
       "<div>\n",
       "<style scoped>\n",
       "    .dataframe tbody tr th:only-of-type {\n",
       "        vertical-align: middle;\n",
       "    }\n",
       "\n",
       "    .dataframe tbody tr th {\n",
       "        vertical-align: top;\n",
       "    }\n",
       "\n",
       "    .dataframe thead th {\n",
       "        text-align: right;\n",
       "    }\n",
       "</style>\n",
       "<table border=\"1\" class=\"dataframe\">\n",
       "  <thead>\n",
       "    <tr style=\"text-align: right;\">\n",
       "      <th></th>\n",
       "      <th>A</th>\n",
       "      <th>K</th>\n",
       "      <th>solution(A, K)</th>\n",
       "    </tr>\n",
       "  </thead>\n",
       "  <tbody>\n",
       "    <tr>\n",
       "      <th>0</th>\n",
       "      <td>[3, 8, 9, 7, 6]</td>\n",
       "      <td>3</td>\n",
       "      <td>[9, 7, 6, 3, 8]</td>\n",
       "    </tr>\n",
       "    <tr>\n",
       "      <th>1</th>\n",
       "      <td>[0, 0, 0]</td>\n",
       "      <td>1</td>\n",
       "      <td>[0, 0, 0]</td>\n",
       "    </tr>\n",
       "    <tr>\n",
       "      <th>2</th>\n",
       "      <td>[1, 2, 3, 4]</td>\n",
       "      <td>4</td>\n",
       "      <td>[1, 2, 3, 4]</td>\n",
       "    </tr>\n",
       "  </tbody>\n",
       "</table>\n",
       "</div>"
      ],
      "text/plain": [
       "                 A  K   solution(A, K)\n",
       "0  [3, 8, 9, 7, 6]  3  [9, 7, 6, 3, 8]\n",
       "1        [0, 0, 0]  1        [0, 0, 0]\n",
       "2     [1, 2, 3, 4]  4     [1, 2, 3, 4]"
      ]
     },
     "execution_count": 4,
     "metadata": {},
     "output_type": "execute_result"
    }
   ],
   "source": [
    "test(example)"
   ]
  }
 ],
 "metadata": {
  "kernelspec": {
   "display_name": "Python 3 (ipykernel)",
   "language": "python",
   "name": "python3"
  },
  "language_info": {
   "codemirror_mode": {
    "name": "ipython",
    "version": 3
   },
   "file_extension": ".py",
   "mimetype": "text/x-python",
   "name": "python",
   "nbconvert_exporter": "python",
   "pygments_lexer": "ipython3",
   "version": "3.9.12"
  }
 },
 "nbformat": 4,
 "nbformat_minor": 5
}
