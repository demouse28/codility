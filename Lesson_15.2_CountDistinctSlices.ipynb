{
 "cells": [
  {
   "cell_type": "markdown",
   "id": "04ae9349",
   "metadata": {},
   "source": [
    "# CountDistinctSlices"
   ]
  },
  {
   "cell_type": "markdown",
   "id": "77ef0e11",
   "metadata": {},
   "source": [
    "## Task"
   ]
  },
  {
   "cell_type": "markdown",
   "id": "078d2e9c",
   "metadata": {},
   "source": [
    "An integer M and a non-empty array A consisting of N non-negative integers are given. All integers in array A are less than or equal to M.\n",
    "\n",
    "A pair of integers (P, Q), such that 0 ≤ P ≤ Q < N, is called a slice of array A. The slice consists of the elements A[P], A[P + 1], ..., A[Q]. A distinct slice is a slice consisting of only unique numbers. That is, no individual number occurs more than once in the slice.\n",
    "\n",
    "For example, consider integer M = 6 and array A such that:\n",
    "\n",
    "    A[0] = 3\n",
    "    A[1] = 4\n",
    "    A[2] = 5\n",
    "    A[3] = 5\n",
    "    A[4] = 2\n",
    "There are exactly nine distinct slices: (0, 0), (0, 1), (0, 2), (1, 1), (1, 2), (2, 2), (3, 3), (3, 4) and (4, 4).\n",
    "\n",
    "The goal is to calculate the number of distinct slices.\n",
    "\n",
    "Write a function:\n",
    "\n",
    "def solution(M, A)\n",
    "\n",
    "that, given an integer M and a non-empty array A consisting of N integers, returns the number of distinct slices.\n",
    "\n",
    "If the number of distinct slices is greater than 1,000,000,000, the function should return 1,000,000,000.\n",
    "\n",
    "For example, given integer M = 6 and array A such that:\n",
    "\n",
    "    A[0] = 3\n",
    "    A[1] = 4\n",
    "    A[2] = 5\n",
    "    A[3] = 5\n",
    "    A[4] = 2\n",
    "the function should return 9, as explained above.\n",
    "\n",
    "Write an efficient algorithm for the following assumptions:\n",
    "\n",
    "N is an integer within the range [1..100,000];\n",
    "M is an integer within the range [0..100,000];\n",
    "each element of array A is an integer within the range [0..M]."
   ]
  },
  {
   "cell_type": "markdown",
   "id": "9032292c",
   "metadata": {},
   "source": [
    "## Solution"
   ]
  },
  {
   "cell_type": "code",
   "execution_count": 1,
   "id": "4e9201b4",
   "metadata": {},
   "outputs": [],
   "source": [
    "def solution(M, A):\n",
    "    # Implement your solution here\n",
    "    \n",
    "    slices = 0\n",
    "    seen = set()\n",
    "    left = 0\n",
    "    \n",
    "    for i in range(len(A)):\n",
    "        \n",
    "        while A[i] in seen:\n",
    "            seen.remove(A[left])\n",
    "            left += 1\n",
    "            \n",
    "        seen.add(A[i])\n",
    "        slices += i - left + 1\n",
    "        \n",
    "        if slices > 1000000000:\n",
    "            return 1000000000\n",
    "        \n",
    "    return slices"
   ]
  },
  {
   "cell_type": "code",
   "execution_count": 2,
   "id": "98e83cfd",
   "metadata": {},
   "outputs": [],
   "source": [
    "M = 6\n",
    "A = [3, 4, 5, 5, 2]"
   ]
  },
  {
   "cell_type": "code",
   "execution_count": 3,
   "id": "e95a7bb8",
   "metadata": {},
   "outputs": [
    {
     "data": {
      "text/plain": [
       "9"
      ]
     },
     "execution_count": 3,
     "metadata": {},
     "output_type": "execute_result"
    }
   ],
   "source": [
    "solution(M, A)"
   ]
  }
 ],
 "metadata": {
  "kernelspec": {
   "display_name": "Python 3 (ipykernel)",
   "language": "python",
   "name": "python3"
  },
  "language_info": {
   "codemirror_mode": {
    "name": "ipython",
    "version": 3
   },
   "file_extension": ".py",
   "mimetype": "text/x-python",
   "name": "python",
   "nbconvert_exporter": "python",
   "pygments_lexer": "ipython3",
   "version": "3.9.12"
  }
 },
 "nbformat": 4,
 "nbformat_minor": 5
}
