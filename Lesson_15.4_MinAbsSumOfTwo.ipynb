{
 "cells": [
  {
   "cell_type": "markdown",
   "id": "efb97939",
   "metadata": {},
   "source": [
    "# MinAbsSumOfTwo"
   ]
  },
  {
   "cell_type": "markdown",
   "id": "4632607b",
   "metadata": {},
   "source": [
    "## Task"
   ]
  },
  {
   "cell_type": "markdown",
   "id": "205e38b5",
   "metadata": {},
   "source": [
    "Let A be a non-empty array consisting of N integers.\n",
    "\n",
    "The abs sum of two for a pair of indices (P, Q) is the absolute value |A[P] + A[Q]|, for 0 ≤ P ≤ Q < N.\n",
    "\n",
    "For example, the following array A:\n",
    "\n",
    "  A[0] =  1\n",
    "  A[1] =  4\n",
    "  A[2] = -3\n",
    "has pairs of indices (0, 0), (0, 1), (0, 2), (1, 1), (1, 2), (2, 2).\n",
    "The abs sum of two for the pair (0, 0) is A[0] + A[0] = |1 + 1| = 2.\n",
    "The abs sum of two for the pair (0, 1) is A[0] + A[1] = |1 + 4| = 5.\n",
    "The abs sum of two for the pair (0, 2) is A[0] + A[2] = |1 + (−3)| = 2.\n",
    "The abs sum of two for the pair (1, 1) is A[1] + A[1] = |4 + 4| = 8.\n",
    "The abs sum of two for the pair (1, 2) is A[1] + A[2] = |4 + (−3)| = 1.\n",
    "The abs sum of two for the pair (2, 2) is A[2] + A[2] = |(−3) + (−3)| = 6.\n",
    "Write a function:\n",
    "\n",
    "def solution(A)\n",
    "\n",
    "that, given a non-empty array A consisting of N integers, returns the minimal abs sum of two for any pair of indices in this array.\n",
    "\n",
    "For example, given the following array A:\n",
    "\n",
    "  A[0] =  1\n",
    "  A[1] =  4\n",
    "  A[2] = -3\n",
    "the function should return 1, as explained above.\n",
    "\n",
    "Given array A:\n",
    "\n",
    "  A[0] = -8\n",
    "  A[1] =  4\n",
    "  A[2] =  5\n",
    "  A[3] =-10\n",
    "  A[4] =  3\n",
    "the function should return |(−8) + 5| = 3.\n",
    "\n",
    "Write an efficient algorithm for the following assumptions:\n",
    "\n",
    "N is an integer within the range [1..100,000];\n",
    "each element of array A is an integer within the range [−1,000,000,000..1,000,000,000]."
   ]
  },
  {
   "cell_type": "markdown",
   "id": "e226262e",
   "metadata": {},
   "source": [
    "## Solution"
   ]
  },
  {
   "cell_type": "code",
   "execution_count": 1,
   "id": "2cd0f872",
   "metadata": {},
   "outputs": [],
   "source": [
    "def solution(A):\n",
    "    # Implement your solution here\n",
    "    \n",
    "    A.sort()\n",
    "    left = 0\n",
    "    right = len(A) - 1\n",
    "    min_abs = abs(A[left] + A[right])\n",
    "    \n",
    "    while left <= right:\n",
    "        \n",
    "        current = A[left] + A[right]\n",
    "        min_abs = min(min_abs, abs(current))\n",
    "        \n",
    "        if current <= 0:\n",
    "            left += 1\n",
    "            \n",
    "        else:\n",
    "            right -= 1\n",
    "            \n",
    "    return min_abs"
   ]
  },
  {
   "cell_type": "markdown",
   "id": "b33fc14e",
   "metadata": {},
   "source": [
    "## Test"
   ]
  },
  {
   "cell_type": "code",
   "execution_count": 2,
   "id": "ea2de34f",
   "metadata": {},
   "outputs": [],
   "source": [
    "import pandas as pd\n",
    "\n",
    "def test(li):\n",
    "    \n",
    "    df = pd.DataFrame(columns = ['A', 'solution(A)'])\n",
    "    for i in li:\n",
    "        row = [i, solution(i)]\n",
    "        df.loc[len(df)] = row\n",
    "    \n",
    "    return(df)"
   ]
  },
  {
   "cell_type": "code",
   "execution_count": 3,
   "id": "d0bae947",
   "metadata": {},
   "outputs": [],
   "source": [
    "example = [[1, 4, -3], [-8, 4, 5, -10, 3]]"
   ]
  },
  {
   "cell_type": "code",
   "execution_count": 4,
   "id": "16c8d0e2",
   "metadata": {},
   "outputs": [
    {
     "data": {
      "text/html": [
       "<div>\n",
       "<style scoped>\n",
       "    .dataframe tbody tr th:only-of-type {\n",
       "        vertical-align: middle;\n",
       "    }\n",
       "\n",
       "    .dataframe tbody tr th {\n",
       "        vertical-align: top;\n",
       "    }\n",
       "\n",
       "    .dataframe thead th {\n",
       "        text-align: right;\n",
       "    }\n",
       "</style>\n",
       "<table border=\"1\" class=\"dataframe\">\n",
       "  <thead>\n",
       "    <tr style=\"text-align: right;\">\n",
       "      <th></th>\n",
       "      <th>A</th>\n",
       "      <th>solution(A)</th>\n",
       "    </tr>\n",
       "  </thead>\n",
       "  <tbody>\n",
       "    <tr>\n",
       "      <th>0</th>\n",
       "      <td>[-3, 1, 4]</td>\n",
       "      <td>1</td>\n",
       "    </tr>\n",
       "    <tr>\n",
       "      <th>1</th>\n",
       "      <td>[-10, -8, 3, 4, 5]</td>\n",
       "      <td>3</td>\n",
       "    </tr>\n",
       "  </tbody>\n",
       "</table>\n",
       "</div>"
      ],
      "text/plain": [
       "                    A  solution(A)\n",
       "0          [-3, 1, 4]            1\n",
       "1  [-10, -8, 3, 4, 5]            3"
      ]
     },
     "execution_count": 4,
     "metadata": {},
     "output_type": "execute_result"
    }
   ],
   "source": [
    "test(example)"
   ]
  }
 ],
 "metadata": {
  "kernelspec": {
   "display_name": "Python 3 (ipykernel)",
   "language": "python",
   "name": "python3"
  },
  "language_info": {
   "codemirror_mode": {
    "name": "ipython",
    "version": 3
   },
   "file_extension": ".py",
   "mimetype": "text/x-python",
   "name": "python",
   "nbconvert_exporter": "python",
   "pygments_lexer": "ipython3",
   "version": "3.9.12"
  }
 },
 "nbformat": 4,
 "nbformat_minor": 5
}
