{
 "cells": [
  {
   "cell_type": "markdown",
   "id": "955b3c88",
   "metadata": {},
   "source": [
    "# CountNonDivisible (55% Overall, 100% Correctness, 0% Performance)"
   ]
  },
  {
   "cell_type": "markdown",
   "id": "e0d485e0",
   "metadata": {},
   "source": [
    "## Task"
   ]
  },
  {
   "cell_type": "markdown",
   "id": "90ae4bdb",
   "metadata": {},
   "source": [
    "You are given an array A consisting of N integers.\n",
    "\n",
    "For each number A[i] such that 0 ≤ i < N, we want to count the number of elements of the array that are not the divisors of A[i]. We say that these elements are non-divisors.\n",
    "\n",
    "For example, consider integer N = 5 and array A such that:\n",
    "\n",
    "    A[0] = 3\n",
    "    A[1] = 1\n",
    "    A[2] = 2\n",
    "    A[3] = 3\n",
    "    A[4] = 6\n",
    "For the following elements:\n",
    "\n",
    "A[0] = 3, the non-divisors are: 2, 6,\n",
    "A[1] = 1, the non-divisors are: 3, 2, 3, 6,\n",
    "A[2] = 2, the non-divisors are: 3, 3, 6,\n",
    "A[3] = 3, the non-divisors are: 2, 6,\n",
    "A[4] = 6, there aren't any non-divisors.\n",
    "Write a function:\n",
    "\n",
    "def solution(A)\n",
    "\n",
    "that, given an array A consisting of N integers, returns a sequence of integers representing the amount of non-divisors.\n",
    "\n",
    "Result array should be returned as an array of integers.\n",
    "\n",
    "For example, given:\n",
    "\n",
    "    A[0] = 3\n",
    "    A[1] = 1\n",
    "    A[2] = 2\n",
    "    A[3] = 3\n",
    "    A[4] = 6\n",
    "the function should return [2, 4, 3, 2, 0], as explained above.\n",
    "\n",
    "Write an efficient algorithm for the following assumptions:\n",
    "\n",
    "N is an integer within the range [1..50,000];\n",
    "each element of array A is an integer within the range [1..2 * N]."
   ]
  },
  {
   "cell_type": "markdown",
   "id": "612d47c8",
   "metadata": {},
   "source": [
    "## Solution"
   ]
  },
  {
   "cell_type": "code",
   "execution_count": 31,
   "id": "932493cc",
   "metadata": {},
   "outputs": [],
   "source": [
    "def solution(A):\n",
    "    # Implement your solution here\n",
    "    \n",
    "    non_divs = []\n",
    "\n",
    "    for i in A:\n",
    "\n",
    "        non_div = 0\n",
    "\n",
    "        for j in A:\n",
    "\n",
    "            if i % j != 0:\n",
    "                non_div += 1\n",
    "\n",
    "        non_divs.append(non_div)\n",
    "\n",
    "    return non_divs"
   ]
  },
  {
   "cell_type": "markdown",
   "id": "9685765d",
   "metadata": {},
   "source": [
    "## Test"
   ]
  },
  {
   "cell_type": "code",
   "execution_count": 32,
   "id": "a89c4964",
   "metadata": {},
   "outputs": [],
   "source": [
    "A = [3, 1, 2, 3, 6]"
   ]
  },
  {
   "cell_type": "code",
   "execution_count": 33,
   "id": "01671673",
   "metadata": {},
   "outputs": [
    {
     "data": {
      "text/plain": [
       "[2, 4, 3, 2, 0]"
      ]
     },
     "execution_count": 33,
     "metadata": {},
     "output_type": "execute_result"
    }
   ],
   "source": [
    "solution(A)"
   ]
  }
 ],
 "metadata": {
  "kernelspec": {
   "display_name": "Python 3 (ipykernel)",
   "language": "python",
   "name": "python3"
  },
  "language_info": {
   "codemirror_mode": {
    "name": "ipython",
    "version": 3
   },
   "file_extension": ".py",
   "mimetype": "text/x-python",
   "name": "python",
   "nbconvert_exporter": "python",
   "pygments_lexer": "ipython3",
   "version": "3.9.12"
  }
 },
 "nbformat": 4,
 "nbformat_minor": 5
}
