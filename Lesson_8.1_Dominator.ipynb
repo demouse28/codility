{
 "cells": [
  {
   "cell_type": "markdown",
   "id": "3f21b155",
   "metadata": {},
   "source": [
    "# Dominator"
   ]
  },
  {
   "cell_type": "markdown",
   "id": "27aebeb4",
   "metadata": {},
   "source": [
    "## Task"
   ]
  },
  {
   "cell_type": "markdown",
   "id": "6cd3d700",
   "metadata": {},
   "source": [
    "An array A consisting of N integers is given. The dominator of array A is the value that occurs in more than half of the elements of A.\n",
    "\n",
    "For example, consider array A such that\n",
    "\n",
    " A[0] = 3    A[1] = 4    A[2] =  3\n",
    " A[3] = 2    A[4] = 3    A[5] = -1\n",
    " A[6] = 3    A[7] = 3\n",
    "The dominator of A is 3 because it occurs in 5 out of 8 elements of A (namely in those with indices 0, 2, 4, 6 and 7) and 5 is more than a half of 8.\n",
    "\n",
    "Write a function\n",
    "\n",
    "def solution(A)\n",
    "\n",
    "that, given an array A consisting of N integers, returns index of any element of array A in which the dominator of A occurs. The function should return −1 if array A does not have a dominator.\n",
    "\n",
    "For example, given array A such that\n",
    "\n",
    " A[0] = 3    A[1] = 4    A[2] =  3\n",
    " A[3] = 2    A[4] = 3    A[5] = -1\n",
    " A[6] = 3    A[7] = 3\n",
    "the function may return 0, 2, 4, 6 or 7, as explained above.\n",
    "\n",
    "Write an efficient algorithm for the following assumptions:\n",
    "\n",
    "N is an integer within the range [0..100,000];\n",
    "each element of array A is an integer within the range [−2,147,483,648..2,147,483,647]."
   ]
  },
  {
   "cell_type": "markdown",
   "id": "829f9b82",
   "metadata": {},
   "source": [
    "## Solution"
   ]
  },
  {
   "cell_type": "code",
   "execution_count": 1,
   "id": "44db771a",
   "metadata": {},
   "outputs": [],
   "source": [
    "def solution(A):\n",
    "    # Implement your solution here\n",
    "    \n",
    "    freq = {}\n",
    "    \n",
    "    for i in A:\n",
    "        \n",
    "        if i in freq:\n",
    "            freq[i] += 1\n",
    "        \n",
    "        else:\n",
    "            freq[i] = 1\n",
    "     \n",
    "    max_freq = 0\n",
    "    dom = 0\n",
    "    \n",
    "    for i, j in freq.items():\n",
    "        if j > max_freq:\n",
    "            max_freq = j\n",
    "            dom = i\n",
    "            \n",
    "    if max_freq > len(A) / 2:\n",
    "        return A.index(dom)\n",
    "    \n",
    "    else:\n",
    "        return -1"
   ]
  },
  {
   "cell_type": "markdown",
   "id": "62456af8",
   "metadata": {},
   "source": [
    "## Test"
   ]
  },
  {
   "cell_type": "code",
   "execution_count": 2,
   "id": "6ca175fa",
   "metadata": {},
   "outputs": [],
   "source": [
    "A = [3, 4, 3, 2, 3, -1, 3, 3]"
   ]
  },
  {
   "cell_type": "code",
   "execution_count": 3,
   "id": "66dad1b6",
   "metadata": {},
   "outputs": [
    {
     "data": {
      "text/plain": [
       "0"
      ]
     },
     "execution_count": 3,
     "metadata": {},
     "output_type": "execute_result"
    }
   ],
   "source": [
    "solution(A)"
   ]
  }
 ],
 "metadata": {
  "kernelspec": {
   "display_name": "Python 3 (ipykernel)",
   "language": "python",
   "name": "python3"
  },
  "language_info": {
   "codemirror_mode": {
    "name": "ipython",
    "version": 3
   },
   "file_extension": ".py",
   "mimetype": "text/x-python",
   "name": "python",
   "nbconvert_exporter": "python",
   "pygments_lexer": "ipython3",
   "version": "3.9.12"
  }
 },
 "nbformat": 4,
 "nbformat_minor": 5
}
