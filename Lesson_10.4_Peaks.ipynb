{
 "cells": [
  {
   "cell_type": "markdown",
   "id": "5358d178",
   "metadata": {},
   "source": [
    "# Peaks (63% Overall, 100% Correctness, 20% Performance)"
   ]
  },
  {
   "cell_type": "markdown",
   "id": "b7612c5b",
   "metadata": {},
   "source": [
    "## Task"
   ]
  },
  {
   "cell_type": "markdown",
   "id": "c53c1042",
   "metadata": {},
   "source": [
    "A non-empty array A consisting of N integers is given.\n",
    "\n",
    "A peak is an array element which is larger than its neighbors. More precisely, it is an index P such that 0 < P < N − 1,  A[P − 1] < A[P] and A[P] > A[P + 1].\n",
    "\n",
    "For example, the following array A:\n",
    "\n",
    "    A[0] = 1\n",
    "    A[1] = 2\n",
    "    A[2] = 3\n",
    "    A[3] = 4\n",
    "    A[4] = 3\n",
    "    A[5] = 4\n",
    "    A[6] = 1\n",
    "    A[7] = 2\n",
    "    A[8] = 3\n",
    "    A[9] = 4\n",
    "    A[10] = 6\n",
    "    A[11] = 2\n",
    "has exactly three peaks: 3, 5, 10.\n",
    "\n",
    "We want to divide this array into blocks containing the same number of elements. More precisely, we want to choose a number K that will yield the following blocks:\n",
    "\n",
    "A[0], A[1], ..., A[K − 1],\n",
    "A[K], A[K + 1], ..., A[2K − 1],\n",
    "...\n",
    "A[N − K], A[N − K + 1], ..., A[N − 1].\n",
    "What's more, every block should contain at least one peak. Notice that extreme elements of the blocks (for example A[K − 1] or A[K]) can also be peaks, but only if they have both neighbors (including one in an adjacent blocks).\n",
    "\n",
    "The goal is to find the maximum number of blocks into which the array A can be divided.\n",
    "\n",
    "Array A can be divided into blocks as follows:\n",
    "\n",
    "one block (1, 2, 3, 4, 3, 4, 1, 2, 3, 4, 6, 2). This block contains three peaks.\n",
    "two blocks (1, 2, 3, 4, 3, 4) and (1, 2, 3, 4, 6, 2). Every block has a peak.\n",
    "three blocks (1, 2, 3, 4), (3, 4, 1, 2), (3, 4, 6, 2). Every block has a peak. Notice in particular that the first block (1, 2, 3, 4) has a peak at A[3], because A[2] < A[3] > A[4], even though A[4] is in the adjacent block.\n",
    "However, array A cannot be divided into four blocks, (1, 2, 3), (4, 3, 4), (1, 2, 3) and (4, 6, 2), because the (1, 2, 3) blocks do not contain a peak. Notice in particular that the (4, 3, 4) block contains two peaks: A[3] and A[5].\n",
    "\n",
    "The maximum number of blocks that array A can be divided into is three.\n",
    "\n",
    "Write a function:\n",
    "\n",
    "def solution(A)\n",
    "\n",
    "that, given a non-empty array A consisting of N integers, returns the maximum number of blocks into which A can be divided.\n",
    "\n",
    "If A cannot be divided into some number of blocks, the function should return 0.\n",
    "\n",
    "For example, given:\n",
    "\n",
    "    A[0] = 1\n",
    "    A[1] = 2\n",
    "    A[2] = 3\n",
    "    A[3] = 4\n",
    "    A[4] = 3\n",
    "    A[5] = 4\n",
    "    A[6] = 1\n",
    "    A[7] = 2\n",
    "    A[8] = 3\n",
    "    A[9] = 4\n",
    "    A[10] = 6\n",
    "    A[11] = 2\n",
    "the function should return 3, as explained above.\n",
    "\n",
    "Write an efficient algorithm for the following assumptions:\n",
    "\n",
    "N is an integer within the range [1..100,000];\n",
    "each element of array A is an integer within the range [0..1,000,000,000]."
   ]
  },
  {
   "cell_type": "markdown",
   "id": "211cbac7",
   "metadata": {},
   "source": [
    "## Solution"
   ]
  },
  {
   "cell_type": "code",
   "execution_count": 1,
   "id": "2a92d7de",
   "metadata": {},
   "outputs": [],
   "source": [
    "def solution(A):\n",
    "    # Implement your solution here\n",
    "    \n",
    "    peaks = []\n",
    "\n",
    "    for i in range(1, len(A) - 1):\n",
    "        if A[i - 1] < A[i] and A[i] > A[i + 1]:\n",
    "            peaks.append(i)\n",
    "            \n",
    "    for i in range(len(peaks), 0, -1):\n",
    "        \n",
    "        if len(A) % i == 0:\n",
    "            \n",
    "            size = len(A) // i\n",
    "            peak = 0\n",
    "            blocks = 0\n",
    "            \n",
    "            for j in range(i):\n",
    "                \n",
    "                start = j * size\n",
    "                end = (j + 1) * size\n",
    "                \n",
    "                if start <= peaks[peak] < end:\n",
    "                    blocks += 1\n",
    "                    peak += 1\n",
    "                    \n",
    "                    if blocks == i:\n",
    "                        return i\n",
    "                    \n",
    "            if peak == len(peaks):\n",
    "                return i\n",
    "            \n",
    "    return 0"
   ]
  },
  {
   "cell_type": "markdown",
   "id": "35628267",
   "metadata": {},
   "source": [
    "## Test"
   ]
  },
  {
   "cell_type": "code",
   "execution_count": 2,
   "id": "8149b646",
   "metadata": {},
   "outputs": [],
   "source": [
    "A = [1, 2, 3, 4, 3, 4, 1, 2, 3, 4, 6, 2]"
   ]
  },
  {
   "cell_type": "code",
   "execution_count": 3,
   "id": "6139a021",
   "metadata": {},
   "outputs": [
    {
     "data": {
      "text/plain": [
       "3"
      ]
     },
     "execution_count": 3,
     "metadata": {},
     "output_type": "execute_result"
    }
   ],
   "source": [
    "solution(A)"
   ]
  }
 ],
 "metadata": {
  "kernelspec": {
   "display_name": "Python 3 (ipykernel)",
   "language": "python",
   "name": "python3"
  },
  "language_info": {
   "codemirror_mode": {
    "name": "ipython",
    "version": 3
   },
   "file_extension": ".py",
   "mimetype": "text/x-python",
   "name": "python",
   "nbconvert_exporter": "python",
   "pygments_lexer": "ipython3",
   "version": "3.9.12"
  }
 },
 "nbformat": 4,
 "nbformat_minor": 5
}
