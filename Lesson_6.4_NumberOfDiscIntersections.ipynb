{
 "cells": [
  {
   "cell_type": "markdown",
   "id": "056230ba",
   "metadata": {},
   "source": [
    "# NumberOfDiscIntersections"
   ]
  },
  {
   "cell_type": "markdown",
   "id": "502ccd30",
   "metadata": {},
   "source": [
    "## Task"
   ]
  },
  {
   "cell_type": "markdown",
   "id": "0dcaa1ce",
   "metadata": {},
   "source": [
    "We draw N discs on a plane. The discs are numbered from 0 to N − 1. An array A of N non-negative integers, specifying the radiuses of the discs, is given. The J-th disc is drawn with its center at (J, 0) and radius A[J].\n",
    "\n",
    "We say that the J-th disc and K-th disc intersect if J ≠ K and the J-th and K-th discs have at least one common point (assuming that the discs contain their borders).\n",
    "\n",
    "The figure below shows discs drawn for N = 6 and A as follows:\n",
    "\n",
    "  A[0] = 1\n",
    "  A[1] = 5\n",
    "  A[2] = 2\n",
    "  A[3] = 1\n",
    "  A[4] = 4\n",
    "  A[5] = 0\n",
    "\n",
    "\n",
    "There are eleven (unordered) pairs of discs that intersect, namely:\n",
    "\n",
    "discs 1 and 4 intersect, and both intersect with all the other discs;\n",
    "disc 2 also intersects with discs 0 and 3.\n",
    "Write a function:\n",
    "\n",
    "def solution(A)\n",
    "\n",
    "that, given an array A describing N discs as explained above, returns the number of (unordered) pairs of intersecting discs. The function should return −1 if the number of intersecting pairs exceeds 10,000,000.\n",
    "\n",
    "Given array A shown above, the function should return 11, as explained above.\n",
    "\n",
    "Write an efficient algorithm for the following assumptions:\n",
    "\n",
    "N is an integer within the range [0..100,000];\n",
    "each element of array A is an integer within the range [0..2,147,483,647]."
   ]
  },
  {
   "cell_type": "markdown",
   "id": "47e9f151",
   "metadata": {},
   "source": [
    "## Solution"
   ]
  },
  {
   "cell_type": "code",
   "execution_count": 1,
   "id": "9131793b",
   "metadata": {},
   "outputs": [],
   "source": [
    "def solution(A):\n",
    "    # Implement your solution here\n",
    "    \n",
    "    events = []\n",
    "    \n",
    "    for i, j in enumerate(A):\n",
    "        events.append((i - j, -1))\n",
    "        events.append((i + j, 1))\n",
    "        \n",
    "    events.sort()\n",
    "    \n",
    "    intersections = 0\n",
    "    active = 0\n",
    "    \n",
    "    for i in events:\n",
    "        \n",
    "        if i[1] == -1:\n",
    "            \n",
    "            intersections += active\n",
    "            active += 1\n",
    "            \n",
    "            if intersections > 10000000:\n",
    "                return -1\n",
    "            \n",
    "        else:\n",
    "            active -= 1\n",
    "    \n",
    "    return intersections"
   ]
  },
  {
   "cell_type": "markdown",
   "id": "187362f4",
   "metadata": {},
   "source": [
    "## Test"
   ]
  },
  {
   "cell_type": "code",
   "execution_count": 2,
   "id": "cf88a694",
   "metadata": {},
   "outputs": [
    {
     "data": {
      "text/plain": [
       "[1, 5, 2, 1, 4, 0]"
      ]
     },
     "execution_count": 2,
     "metadata": {},
     "output_type": "execute_result"
    }
   ],
   "source": [
    "A = [1, 5, 2, 1, 4, 0]\n",
    "A"
   ]
  },
  {
   "cell_type": "code",
   "execution_count": 3,
   "id": "c46022c7",
   "metadata": {},
   "outputs": [
    {
     "data": {
      "text/plain": [
       "11"
      ]
     },
     "execution_count": 3,
     "metadata": {},
     "output_type": "execute_result"
    }
   ],
   "source": [
    "solution(A)"
   ]
  }
 ],
 "metadata": {
  "kernelspec": {
   "display_name": "Python 3 (ipykernel)",
   "language": "python",
   "name": "python3"
  },
  "language_info": {
   "codemirror_mode": {
    "name": "ipython",
    "version": 3
   },
   "file_extension": ".py",
   "mimetype": "text/x-python",
   "name": "python",
   "nbconvert_exporter": "python",
   "pygments_lexer": "ipython3",
   "version": "3.9.12"
  }
 },
 "nbformat": 4,
 "nbformat_minor": 5
}
