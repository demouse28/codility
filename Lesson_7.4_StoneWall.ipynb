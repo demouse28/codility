{
 "cells": [
  {
   "cell_type": "markdown",
   "id": "9f9ced88",
   "metadata": {},
   "source": [
    "# StoneWall"
   ]
  },
  {
   "cell_type": "markdown",
   "id": "c6647ca0",
   "metadata": {},
   "source": [
    "## Task"
   ]
  },
  {
   "cell_type": "markdown",
   "id": "225e95de",
   "metadata": {},
   "source": [
    "You are going to build a stone wall. The wall should be straight and N meters long, and its thickness should be constant; however, it should have different heights in different places. The height of the wall is specified by an array H of N positive integers. H[I] is the height of the wall from I to I+1 meters to the right of its left end. In particular, H[0] is the height of the wall's left end and H[N−1] is the height of the wall's right end.\n",
    "\n",
    "The wall should be built of cuboid stone blocks (that is, all sides of such blocks are rectangular). Your task is to compute the minimum number of blocks needed to build the wall.\n",
    "\n",
    "Write a function:\n",
    "\n",
    "def solution(H)\n",
    "\n",
    "that, given an array H of N positive integers specifying the height of the wall, returns the minimum number of blocks needed to build it.\n",
    "\n",
    "For example, given array H containing N = 9 integers:\n",
    "\n",
    "  H[0] = 8    H[1] = 8    H[2] = 5\n",
    "  H[3] = 7    H[4] = 9    H[5] = 8\n",
    "  H[6] = 7    H[7] = 4    H[8] = 8\n",
    "the function should return 7. The figure shows one possible arrangement of seven blocks.\n",
    "\n",
    "\n",
    "\n",
    "Write an efficient algorithm for the following assumptions:\n",
    "\n",
    "N is an integer within the range [1..100,000];\n",
    "each element of array H is an integer within the range [1..1,000,000,000]."
   ]
  },
  {
   "cell_type": "markdown",
   "id": "9cd7a946",
   "metadata": {},
   "source": [
    "## Solution"
   ]
  },
  {
   "cell_type": "code",
   "execution_count": 1,
   "id": "a825547c",
   "metadata": {},
   "outputs": [],
   "source": [
    "def solution(H):\n",
    "    # Implement your solution here\n",
    "    \n",
    "    blocks = 0\n",
    "    active = []\n",
    "\n",
    "    for i in H:\n",
    "\n",
    "        while active != [] and i < active[-1]:\n",
    "            active.pop()\n",
    "            \n",
    "        if active == [] or i > active[-1]:\n",
    "            blocks += 1\n",
    "            active.append(i)\n",
    "            \n",
    "    return blocks"
   ]
  },
  {
   "cell_type": "markdown",
   "id": "ed128dc3",
   "metadata": {},
   "source": [
    "## Test"
   ]
  },
  {
   "cell_type": "code",
   "execution_count": 2,
   "id": "1576d3fe",
   "metadata": {},
   "outputs": [],
   "source": [
    "H = [8, 8, 5, 7, 9, 8, 7, 4, 8]"
   ]
  },
  {
   "cell_type": "code",
   "execution_count": 3,
   "id": "81375bc6",
   "metadata": {},
   "outputs": [
    {
     "data": {
      "text/plain": [
       "7"
      ]
     },
     "execution_count": 3,
     "metadata": {},
     "output_type": "execute_result"
    }
   ],
   "source": [
    "solution(H)"
   ]
  }
 ],
 "metadata": {
  "kernelspec": {
   "display_name": "Python 3 (ipykernel)",
   "language": "python",
   "name": "python3"
  },
  "language_info": {
   "codemirror_mode": {
    "name": "ipython",
    "version": 3
   },
   "file_extension": ".py",
   "mimetype": "text/x-python",
   "name": "python",
   "nbconvert_exporter": "python",
   "pygments_lexer": "ipython3",
   "version": "3.9.12"
  }
 },
 "nbformat": 4,
 "nbformat_minor": 5
}
