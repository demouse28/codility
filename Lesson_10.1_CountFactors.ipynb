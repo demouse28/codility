{
 "cells": [
  {
   "cell_type": "markdown",
   "id": "c733099e",
   "metadata": {},
   "source": [
    "# CountFactors"
   ]
  },
  {
   "cell_type": "markdown",
   "id": "bbefdd7c",
   "metadata": {},
   "source": [
    "## Task"
   ]
  },
  {
   "cell_type": "markdown",
   "id": "45b0f003",
   "metadata": {},
   "source": [
    "A positive integer D is a factor of a positive integer N if there exists an integer M such that N = D * M.\n",
    "\n",
    "For example, 6 is a factor of 24, because M = 4 satisfies the above condition (24 = 6 * 4).\n",
    "\n",
    "Write a function:\n",
    "\n",
    "def solution(N)\n",
    "\n",
    "that, given a positive integer N, returns the number of its factors.\n",
    "\n",
    "For example, given N = 24, the function should return 8, because 24 has 8 factors, namely 1, 2, 3, 4, 6, 8, 12, 24. There are no other factors of 24.\n",
    "\n",
    "Write an efficient algorithm for the following assumptions:\n",
    "\n",
    "N is an integer within the range [1..2,147,483,647]."
   ]
  },
  {
   "cell_type": "markdown",
   "id": "bd61df08",
   "metadata": {},
   "source": [
    "## Solution"
   ]
  },
  {
   "cell_type": "code",
   "execution_count": 1,
   "id": "859e0f5c",
   "metadata": {},
   "outputs": [],
   "source": [
    "def solution(N):\n",
    "    # Implement your solution here\n",
    "    \n",
    "    count = 0\n",
    "    i = 1\n",
    "    \n",
    "    while i * i < N:\n",
    "        \n",
    "        if N % i == 0:\n",
    "            count += 2\n",
    "        \n",
    "        i += 1\n",
    "            \n",
    "    if i * i == N:\n",
    "        count += 1\n",
    "        \n",
    "    return count"
   ]
  },
  {
   "cell_type": "markdown",
   "id": "d8fa7203",
   "metadata": {},
   "source": [
    "## Test"
   ]
  },
  {
   "cell_type": "code",
   "execution_count": 2,
   "id": "95c7aa44",
   "metadata": {},
   "outputs": [],
   "source": [
    "N = 25"
   ]
  },
  {
   "cell_type": "code",
   "execution_count": 3,
   "id": "991bd867",
   "metadata": {},
   "outputs": [
    {
     "data": {
      "text/plain": [
       "3"
      ]
     },
     "execution_count": 3,
     "metadata": {},
     "output_type": "execute_result"
    }
   ],
   "source": [
    "solution(N)"
   ]
  }
 ],
 "metadata": {
  "kernelspec": {
   "display_name": "Python 3 (ipykernel)",
   "language": "python",
   "name": "python3"
  },
  "language_info": {
   "codemirror_mode": {
    "name": "ipython",
    "version": 3
   },
   "file_extension": ".py",
   "mimetype": "text/x-python",
   "name": "python",
   "nbconvert_exporter": "python",
   "pygments_lexer": "ipython3",
   "version": "3.9.12"
  }
 },
 "nbformat": 4,
 "nbformat_minor": 5
}
