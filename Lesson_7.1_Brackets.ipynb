{
 "cells": [
  {
   "cell_type": "markdown",
   "id": "7c9dd0e0",
   "metadata": {},
   "source": [
    "# Brackets"
   ]
  },
  {
   "cell_type": "markdown",
   "id": "cb6a6e02",
   "metadata": {},
   "source": [
    "## Task"
   ]
  },
  {
   "cell_type": "markdown",
   "id": "8275ee4f",
   "metadata": {},
   "source": [
    "A string S consisting of N characters is considered to be properly nested if any of the following conditions is true:\n",
    "\n",
    "S is empty;\n",
    "S has the form \"(U)\" or \"[U]\" or \"{U}\" where U is a properly nested string;\n",
    "S has the form \"VW\" where V and W are properly nested strings.\n",
    "For example, the string \"{[()()]}\" is properly nested but \"([)()]\" is not.\n",
    "\n",
    "Write a function:\n",
    "\n",
    "def solution(S)\n",
    "\n",
    "that, given a string S consisting of N characters, returns 1 if S is properly nested and 0 otherwise.\n",
    "\n",
    "For example, given S = \"{[()()]}\", the function should return 1 and given S = \"([)()]\", the function should return 0, as explained above.\n",
    "\n",
    "Write an efficient algorithm for the following assumptions:\n",
    "\n",
    "N is an integer within the range [0..200,000];\n",
    "string S is made only of the following characters: '(', '{', '[', ']', '}' and/or ')'."
   ]
  },
  {
   "cell_type": "markdown",
   "id": "3903268a",
   "metadata": {},
   "source": [
    "## Solution"
   ]
  },
  {
   "cell_type": "code",
   "execution_count": 1,
   "id": "2c1ae84c",
   "metadata": {},
   "outputs": [],
   "source": [
    "def solution(S):\n",
    "    # Implement your solution here\n",
    "    \n",
    "    char = {'(': ')', '{': '}', '[': ']'}\n",
    "    stack = []\n",
    "    \n",
    "    for i in list(S):\n",
    "        \n",
    "        if i in char.keys():\n",
    "            stack.append(char[i])\n",
    "            \n",
    "        if i in char.values():\n",
    "            \n",
    "            if len(stack) == 0:\n",
    "                return 0\n",
    "            \n",
    "            if stack.pop() != i:\n",
    "                return 0\n",
    "        \n",
    "    if len(stack) == 0:\n",
    "        return 1\n",
    "    \n",
    "    else:\n",
    "        return 0"
   ]
  },
  {
   "cell_type": "markdown",
   "id": "d5e6a5d4",
   "metadata": {},
   "source": [
    "## Test"
   ]
  },
  {
   "cell_type": "code",
   "execution_count": 2,
   "id": "e0515e46",
   "metadata": {},
   "outputs": [],
   "source": [
    "import pandas as pd\n",
    "\n",
    "def test(li):\n",
    "    \n",
    "    df = pd.DataFrame(columns = ['S','solution(S)'])\n",
    "    for i in li:\n",
    "        row = [i, solution(i)]\n",
    "        df.loc[len(df)] = row\n",
    "    \n",
    "    return(df)"
   ]
  },
  {
   "cell_type": "code",
   "execution_count": 3,
   "id": "5eb529f6",
   "metadata": {},
   "outputs": [],
   "source": [
    "example = ['{[()()]}', '([)()]']"
   ]
  },
  {
   "cell_type": "code",
   "execution_count": 4,
   "id": "135bb436",
   "metadata": {},
   "outputs": [
    {
     "data": {
      "text/html": [
       "<div>\n",
       "<style scoped>\n",
       "    .dataframe tbody tr th:only-of-type {\n",
       "        vertical-align: middle;\n",
       "    }\n",
       "\n",
       "    .dataframe tbody tr th {\n",
       "        vertical-align: top;\n",
       "    }\n",
       "\n",
       "    .dataframe thead th {\n",
       "        text-align: right;\n",
       "    }\n",
       "</style>\n",
       "<table border=\"1\" class=\"dataframe\">\n",
       "  <thead>\n",
       "    <tr style=\"text-align: right;\">\n",
       "      <th></th>\n",
       "      <th>S</th>\n",
       "      <th>solution(S)</th>\n",
       "    </tr>\n",
       "  </thead>\n",
       "  <tbody>\n",
       "    <tr>\n",
       "      <th>0</th>\n",
       "      <td>{[()()]}</td>\n",
       "      <td>1</td>\n",
       "    </tr>\n",
       "    <tr>\n",
       "      <th>1</th>\n",
       "      <td>([)()]</td>\n",
       "      <td>0</td>\n",
       "    </tr>\n",
       "  </tbody>\n",
       "</table>\n",
       "</div>"
      ],
      "text/plain": [
       "          S  solution(S)\n",
       "0  {[()()]}            1\n",
       "1    ([)()]            0"
      ]
     },
     "execution_count": 4,
     "metadata": {},
     "output_type": "execute_result"
    }
   ],
   "source": [
    "test(example)"
   ]
  }
 ],
 "metadata": {
  "kernelspec": {
   "display_name": "Python 3 (ipykernel)",
   "language": "python",
   "name": "python3"
  },
  "language_info": {
   "codemirror_mode": {
    "name": "ipython",
    "version": 3
   },
   "file_extension": ".py",
   "mimetype": "text/x-python",
   "name": "python",
   "nbconvert_exporter": "python",
   "pygments_lexer": "ipython3",
   "version": "3.9.12"
  }
 },
 "nbformat": 4,
 "nbformat_minor": 5
}
