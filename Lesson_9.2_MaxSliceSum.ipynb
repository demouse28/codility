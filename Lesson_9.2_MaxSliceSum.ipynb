{
 "cells": [
  {
   "cell_type": "markdown",
   "id": "7b2ec85b",
   "metadata": {},
   "source": [
    "# MaxSliceSum"
   ]
  },
  {
   "cell_type": "markdown",
   "id": "bf8fcd7d",
   "metadata": {},
   "source": [
    "## Task"
   ]
  },
  {
   "cell_type": "markdown",
   "id": "8862a2f9",
   "metadata": {},
   "source": [
    "A non-empty array A consisting of N integers is given. A pair of integers (P, Q), such that 0 ≤ P ≤ Q < N, is called a slice of array A. The sum of a slice (P, Q) is the total of A[P] + A[P+1] + ... + A[Q].\n",
    "\n",
    "Write a function:\n",
    "\n",
    "def solution(A)\n",
    "\n",
    "that, given an array A consisting of N integers, returns the maximum sum of any slice of A.\n",
    "\n",
    "For example, given array A such that:\n",
    "\n",
    "A[0] = 3  A[1] = 2  A[2] = -6\n",
    "A[3] = 4  A[4] = 0\n",
    "the function should return 5 because:\n",
    "\n",
    "(3, 4) is a slice of A that has sum 4,\n",
    "(2, 2) is a slice of A that has sum −6,\n",
    "(0, 1) is a slice of A that has sum 5,\n",
    "no other slice of A has sum greater than (0, 1).\n",
    "Write an efficient algorithm for the following assumptions:\n",
    "\n",
    "N is an integer within the range [1..1,000,000];\n",
    "each element of array A is an integer within the range [−1,000,000..1,000,000];\n",
    "the result will be an integer within the range [−2,147,483,648..2,147,483,647]."
   ]
  },
  {
   "cell_type": "markdown",
   "id": "26cab0ce",
   "metadata": {},
   "source": [
    "## Solution"
   ]
  },
  {
   "cell_type": "code",
   "execution_count": 1,
   "id": "daec4864",
   "metadata": {},
   "outputs": [],
   "source": [
    "def solution(A):\n",
    "    # Implement your solution here\n",
    "    \n",
    "    max_slice = float('-inf')\n",
    "    max_ending = float('-inf')\n",
    "\n",
    "    for i in A:\n",
    "        max_ending = max(max_ending + i, i)\n",
    "        max_slice = max(max_slice, max_ending)\n",
    "    \n",
    "    return max_slice"
   ]
  },
  {
   "cell_type": "markdown",
   "id": "2fa18906",
   "metadata": {},
   "source": [
    "## Test"
   ]
  },
  {
   "cell_type": "code",
   "execution_count": 2,
   "id": "2e809240",
   "metadata": {},
   "outputs": [],
   "source": [
    "A = [3, 2, -6, 4, 0]"
   ]
  },
  {
   "cell_type": "code",
   "execution_count": 3,
   "id": "4d5ae5c0",
   "metadata": {},
   "outputs": [
    {
     "data": {
      "text/plain": [
       "5"
      ]
     },
     "execution_count": 3,
     "metadata": {},
     "output_type": "execute_result"
    }
   ],
   "source": [
    "solution(A)"
   ]
  }
 ],
 "metadata": {
  "kernelspec": {
   "display_name": "Python 3 (ipykernel)",
   "language": "python",
   "name": "python3"
  },
  "language_info": {
   "codemirror_mode": {
    "name": "ipython",
    "version": 3
   },
   "file_extension": ".py",
   "mimetype": "text/x-python",
   "name": "python",
   "nbconvert_exporter": "python",
   "pygments_lexer": "ipython3",
   "version": "3.9.12"
  }
 },
 "nbformat": 4,
 "nbformat_minor": 5
}
