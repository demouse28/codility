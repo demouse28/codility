{
 "cells": [
  {
   "cell_type": "markdown",
   "id": "27e2085e",
   "metadata": {},
   "source": [
    "# CommonPrimeDivisors (30% Overall, 42% Correctness, 16% Performance)"
   ]
  },
  {
   "cell_type": "markdown",
   "id": "7ba1974d",
   "metadata": {},
   "source": [
    "## Task"
   ]
  },
  {
   "cell_type": "markdown",
   "id": "f3c50a6e",
   "metadata": {},
   "source": [
    "A prime is a positive integer X that has exactly two distinct divisors: 1 and X. The first few prime integers are 2, 3, 5, 7, 11 and 13.\n",
    "\n",
    "A prime D is called a prime divisor of a positive integer P if there exists a positive integer K such that D * K = P. For example, 2 and 5 are prime divisors of 20.\n",
    "\n",
    "You are given two positive integers N and M. The goal is to check whether the sets of prime divisors of integers N and M are exactly the same.\n",
    "\n",
    "For example, given:\n",
    "\n",
    "N = 15 and M = 75, the prime divisors are the same: {3, 5};\n",
    "N = 10 and M = 30, the prime divisors aren't the same: {2, 5} is not equal to {2, 3, 5};\n",
    "N = 9 and M = 5, the prime divisors aren't the same: {3} is not equal to {5}.\n",
    "Write a function:\n",
    "\n",
    "def solution(A, B)\n",
    "\n",
    "that, given two non-empty arrays A and B of Z integers, returns the number of positions K for which the prime divisors of A[K] and B[K] are exactly the same.\n",
    "\n",
    "For example, given:\n",
    "\n",
    "    A[0] = 15   B[0] = 75\n",
    "    A[1] = 10   B[1] = 30\n",
    "    A[2] = 3    B[2] = 5\n",
    "the function should return 1, because only one pair (15, 75) has the same set of prime divisors.\n",
    "\n",
    "Write an efficient algorithm for the following assumptions:\n",
    "\n",
    "Z is an integer within the range [1..6,000];\n",
    "each element of arrays A and B is an integer within the range [1..2,147,483,647]."
   ]
  },
  {
   "cell_type": "markdown",
   "id": "695b2929",
   "metadata": {},
   "source": [
    "## Solution"
   ]
  },
  {
   "cell_type": "code",
   "execution_count": 1,
   "id": "af4f363e",
   "metadata": {},
   "outputs": [],
   "source": [
    "def solution(A, B):\n",
    "    # Implement your solution here\n",
    "    \n",
    "    def gcd(a, b):\n",
    "        \n",
    "        if b == 0:\n",
    "            return a\n",
    "        \n",
    "        return gcd(b, a % b)\n",
    "        \n",
    "    #####\n",
    "        \n",
    "    def same_div(a, b):\n",
    "        \n",
    "        gcd_value = gcd(a, b)\n",
    "        \n",
    "        if a == b == gcd_value:\n",
    "            return True\n",
    "        \n",
    "        while a != 1:\n",
    "            \n",
    "            a_gcd = gcd(a, gcd_value)\n",
    "            \n",
    "            if a_gcd == 1:\n",
    "                break\n",
    "                \n",
    "            a /= a_gcd\n",
    "            \n",
    "            if a != 1:\n",
    "                return False\n",
    "            \n",
    "        while b != 1:\n",
    "            \n",
    "            b_gcd = gcd(b, gcd_value)\n",
    "            \n",
    "            if b_gcd == 1:\n",
    "                break\n",
    "                \n",
    "            b /= b_gcd\n",
    "            \n",
    "        return b == 1\n",
    "    \n",
    "    #####\n",
    "    \n",
    "    count = 0\n",
    "    \n",
    "    for i, j in zip(A, B):\n",
    "        \n",
    "        if same_div(i, j):\n",
    "            count += 1\n",
    "            \n",
    "    return count"
   ]
  },
  {
   "cell_type": "code",
   "execution_count": 2,
   "id": "20bf4d98",
   "metadata": {},
   "outputs": [],
   "source": [
    "A = [15, 10, 3]\n",
    "B = [75, 30, 5]"
   ]
  },
  {
   "cell_type": "code",
   "execution_count": 3,
   "id": "d14f9a7d",
   "metadata": {},
   "outputs": [
    {
     "data": {
      "text/plain": [
       "1"
      ]
     },
     "execution_count": 3,
     "metadata": {},
     "output_type": "execute_result"
    }
   ],
   "source": [
    "solution(A, B)"
   ]
  }
 ],
 "metadata": {
  "kernelspec": {
   "display_name": "Python 3 (ipykernel)",
   "language": "python",
   "name": "python3"
  },
  "language_info": {
   "codemirror_mode": {
    "name": "ipython",
    "version": 3
   },
   "file_extension": ".py",
   "mimetype": "text/x-python",
   "name": "python",
   "nbconvert_exporter": "python",
   "pygments_lexer": "ipython3",
   "version": "3.9.12"
  }
 },
 "nbformat": 4,
 "nbformat_minor": 5
}
