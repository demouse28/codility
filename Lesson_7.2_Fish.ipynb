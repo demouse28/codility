{
 "cells": [
  {
   "cell_type": "markdown",
   "id": "9da8d612",
   "metadata": {},
   "source": [
    "# Fish"
   ]
  },
  {
   "cell_type": "markdown",
   "id": "92e068c9",
   "metadata": {},
   "source": [
    "## Task"
   ]
  },
  {
   "cell_type": "markdown",
   "id": "17f15a25",
   "metadata": {},
   "source": [
    "You are given two non-empty arrays A and B consisting of N integers. Arrays A and B represent N voracious fish in a river, ordered downstream along the flow of the river.\n",
    "\n",
    "The fish are numbered from 0 to N − 1. If P and Q are two fish and P < Q, then fish P is initially upstream of fish Q. Initially, each fish has a unique position.\n",
    "\n",
    "Fish number P is represented by A[P] and B[P]. Array A contains the sizes of the fish. All its elements are unique. Array B contains the directions of the fish. It contains only 0s and/or 1s, where:\n",
    "\n",
    "0 represents a fish flowing upstream,\n",
    "1 represents a fish flowing downstream.\n",
    "If two fish move in opposite directions and there are no other (living) fish between them, they will eventually meet each other. Then only one fish can stay alive − the larger fish eats the smaller one. More precisely, we say that two fish P and Q meet each other when P < Q, B[P] = 1 and B[Q] = 0, and there are no living fish between them. After they meet:\n",
    "\n",
    "If A[P] > A[Q] then P eats Q, and P will still be flowing downstream,\n",
    "If A[Q] > A[P] then Q eats P, and Q will still be flowing upstream.\n",
    "We assume that all the fish are flowing at the same speed. That is, fish moving in the same direction never meet. The goal is to calculate the number of fish that will stay alive.\n",
    "\n",
    "For example, consider arrays A and B such that:\n",
    "\n",
    "  A[0] = 4    B[0] = 0\n",
    "  A[1] = 3    B[1] = 1\n",
    "  A[2] = 2    B[2] = 0\n",
    "  A[3] = 1    B[3] = 0\n",
    "  A[4] = 5    B[4] = 0\n",
    "Initially all the fish are alive and all except fish number 1 are moving upstream. Fish number 1 meets fish number 2 and eats it, then it meets fish number 3 and eats it too. Finally, it meets fish number 4 and is eaten by it. The remaining two fish, number 0 and 4, never meet and therefore stay alive.\n",
    "\n",
    "Write a function:\n",
    "\n",
    "def solution(A, B)\n",
    "\n",
    "that, given two non-empty arrays A and B consisting of N integers, returns the number of fish that will stay alive.\n",
    "\n",
    "For example, given the arrays shown above, the function should return 2, as explained above.\n",
    "\n",
    "Write an efficient algorithm for the following assumptions:\n",
    "\n",
    "N is an integer within the range [1..100,000];\n",
    "each element of array A is an integer within the range [0..1,000,000,000];\n",
    "each element of array B is an integer that can have one of the following values: 0, 1;\n",
    "the elements of A are all distinct."
   ]
  },
  {
   "cell_type": "markdown",
   "id": "35afbd0d",
   "metadata": {},
   "source": [
    "## Solution"
   ]
  },
  {
   "cell_type": "code",
   "execution_count": 1,
   "id": "e7c01ab8",
   "metadata": {},
   "outputs": [],
   "source": [
    "def solution(A, B):\n",
    "    # Implement your solution here\n",
    "    \n",
    "    passed = 0\n",
    "    active = []\n",
    "\n",
    "    if B[0] == 0:\n",
    "        passed += 1\n",
    "    \n",
    "    if B[0] == 1:\n",
    "        active.append(A[0])\n",
    "\n",
    "    for i in range(1, len(A)):\n",
    "\n",
    "        if B[i] == 0:\n",
    "\n",
    "            if active == []:\n",
    "                passed += 1\n",
    "\n",
    "            else:\n",
    "\n",
    "                while A[i] > active[-1]:\n",
    "\n",
    "                    active.pop()\n",
    "\n",
    "                    if active == []:\n",
    "                        break\n",
    "                \n",
    "                if active == []:\n",
    "                    passed += 1\n",
    "\n",
    "        if B[i] == 1:\n",
    "            active.append(A[i])\n",
    "\n",
    "    passed += len(active)\n",
    "\n",
    "    return passed"
   ]
  },
  {
   "cell_type": "markdown",
   "id": "539d63fa",
   "metadata": {},
   "source": [
    "## Test"
   ]
  },
  {
   "cell_type": "code",
   "execution_count": 2,
   "id": "ff2ac343",
   "metadata": {},
   "outputs": [],
   "source": [
    "A = [4, 3, 2, 1, 5]\n",
    "B = [0, 1, 0, 0, 0]"
   ]
  },
  {
   "cell_type": "code",
   "execution_count": 3,
   "id": "84536da4",
   "metadata": {},
   "outputs": [
    {
     "data": {
      "text/plain": [
       "2"
      ]
     },
     "execution_count": 3,
     "metadata": {},
     "output_type": "execute_result"
    }
   ],
   "source": [
    "solution(A, B)"
   ]
  }
 ],
 "metadata": {
  "kernelspec": {
   "display_name": "Python 3 (ipykernel)",
   "language": "python",
   "name": "python3"
  },
  "language_info": {
   "codemirror_mode": {
    "name": "ipython",
    "version": 3
   },
   "file_extension": ".py",
   "mimetype": "text/x-python",
   "name": "python",
   "nbconvert_exporter": "python",
   "pygments_lexer": "ipython3",
   "version": "3.9.12"
  }
 },
 "nbformat": 4,
 "nbformat_minor": 5
}
