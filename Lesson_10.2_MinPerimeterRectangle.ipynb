{
 "cells": [
  {
   "cell_type": "markdown",
   "id": "38f2664a",
   "metadata": {},
   "source": [
    "# MinPerimeterRectangle"
   ]
  },
  {
   "cell_type": "markdown",
   "id": "6fd13bd2",
   "metadata": {},
   "source": [
    "## Task"
   ]
  },
  {
   "cell_type": "markdown",
   "id": "9771b9d1",
   "metadata": {},
   "source": [
    "An integer N is given, representing the area of some rectangle.\n",
    "\n",
    "The area of a rectangle whose sides are of length A and B is A * B, and the perimeter is 2 * (A + B).\n",
    "\n",
    "The goal is to find the minimal perimeter of any rectangle whose area equals N. The sides of this rectangle should be only integers.\n",
    "\n",
    "For example, given integer N = 30, rectangles of area 30 are:\n",
    "\n",
    "(1, 30), with a perimeter of 62,\n",
    "(2, 15), with a perimeter of 34,\n",
    "(3, 10), with a perimeter of 26,\n",
    "(5, 6), with a perimeter of 22.\n",
    "Write a function:\n",
    "\n",
    "def solution(N)\n",
    "\n",
    "that, given an integer N, returns the minimal perimeter of any rectangle whose area is exactly equal to N.\n",
    "\n",
    "For example, given an integer N = 30, the function should return 22, as explained above.\n",
    "\n",
    "Write an efficient algorithm for the following assumptions:\n",
    "\n",
    "N is an integer within the range [1..1,000,000,000]."
   ]
  },
  {
   "cell_type": "markdown",
   "id": "a68a745c",
   "metadata": {},
   "source": [
    "## Solution"
   ]
  },
  {
   "cell_type": "code",
   "execution_count": 1,
   "id": "5cfebd91",
   "metadata": {},
   "outputs": [],
   "source": [
    "def solution(N):\n",
    "    # Implement your solution here\n",
    "    \n",
    "    i = 1\n",
    "    \n",
    "    while i * i <= N:\n",
    "        \n",
    "        if N % i == 0:\n",
    "            a = i\n",
    "            \n",
    "        i += 1\n",
    "        \n",
    "    b = int(N / a)\n",
    "    \n",
    "    return 2 * (a + b)"
   ]
  },
  {
   "cell_type": "code",
   "execution_count": 2,
   "id": "ed706b59",
   "metadata": {},
   "outputs": [],
   "source": [
    "N = 30"
   ]
  },
  {
   "cell_type": "code",
   "execution_count": 3,
   "id": "a1277cf2",
   "metadata": {},
   "outputs": [
    {
     "data": {
      "text/plain": [
       "22"
      ]
     },
     "execution_count": 3,
     "metadata": {},
     "output_type": "execute_result"
    }
   ],
   "source": [
    "solution(N)"
   ]
  }
 ],
 "metadata": {
  "kernelspec": {
   "display_name": "Python 3 (ipykernel)",
   "language": "python",
   "name": "python3"
  },
  "language_info": {
   "codemirror_mode": {
    "name": "ipython",
    "version": 3
   },
   "file_extension": ".py",
   "mimetype": "text/x-python",
   "name": "python",
   "nbconvert_exporter": "python",
   "pygments_lexer": "ipython3",
   "version": "3.9.12"
  }
 },
 "nbformat": 4,
 "nbformat_minor": 5
}
