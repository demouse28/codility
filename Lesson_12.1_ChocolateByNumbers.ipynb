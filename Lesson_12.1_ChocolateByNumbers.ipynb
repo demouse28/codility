{
 "cells": [
  {
   "cell_type": "markdown",
   "id": "9d5af3b9",
   "metadata": {},
   "source": [
    "# ChocolatesByNumbers"
   ]
  },
  {
   "cell_type": "markdown",
   "id": "890f4428",
   "metadata": {},
   "source": [
    "Two positive integers N and M are given. Integer N represents the number of chocolates arranged in a circle, numbered from 0 to N − 1.\n",
    "\n",
    "You start to eat the chocolates. After eating a chocolate you leave only a wrapper.\n",
    "\n",
    "You begin with eating chocolate number 0. Then you omit the next M − 1 chocolates or wrappers on the circle, and eat the following one.\n",
    "\n",
    "More precisely, if you ate chocolate number X, then you will next eat the chocolate with number (X + M) modulo N (remainder of division).\n",
    "\n",
    "You stop eating when you encounter an empty wrapper.\n",
    "\n",
    "For example, given integers N = 10 and M = 4. You will eat the following chocolates: 0, 4, 8, 2, 6.\n",
    "\n",
    "The goal is to count the number of chocolates that you will eat, following the above rules.\n",
    "\n",
    "Write a function:\n",
    "\n",
    "def solution(N, M)\n",
    "\n",
    "that, given two positive integers N and M, returns the number of chocolates that you will eat.\n",
    "\n",
    "For example, given integers N = 10 and M = 4. the function should return 5, as explained above.\n",
    "\n",
    "Write an efficient algorithm for the following assumptions:\n",
    "\n",
    "N and M are integers within the range [1..1,000,000,000]."
   ]
  },
  {
   "cell_type": "markdown",
   "id": "23647e0a",
   "metadata": {},
   "source": [
    "## Solution"
   ]
  },
  {
   "cell_type": "code",
   "execution_count": 1,
   "id": "434dd0f7",
   "metadata": {},
   "outputs": [],
   "source": [
    "def solution(N, M):\n",
    "    # Implement your solution here\n",
    "    \n",
    "    def gcd(a, b):\n",
    "        \n",
    "        if a % b == 0:\n",
    "            return b\n",
    "        \n",
    "        else:\n",
    "            return gcd(b, a % b)\n",
    "        \n",
    "    eaten = N // gcd(N, M)\n",
    "    \n",
    "    return eaten"
   ]
  },
  {
   "cell_type": "code",
   "execution_count": 2,
   "id": "ea0fd02b",
   "metadata": {},
   "outputs": [],
   "source": [
    "N = 10\n",
    "M = 4"
   ]
  },
  {
   "cell_type": "code",
   "execution_count": 3,
   "id": "038713c8",
   "metadata": {},
   "outputs": [
    {
     "data": {
      "text/plain": [
       "5"
      ]
     },
     "execution_count": 3,
     "metadata": {},
     "output_type": "execute_result"
    }
   ],
   "source": [
    "solution(N, M)"
   ]
  }
 ],
 "metadata": {
  "kernelspec": {
   "display_name": "Python 3 (ipykernel)",
   "language": "python",
   "name": "python3"
  },
  "language_info": {
   "codemirror_mode": {
    "name": "ipython",
    "version": 3
   },
   "file_extension": ".py",
   "mimetype": "text/x-python",
   "name": "python",
   "nbconvert_exporter": "python",
   "pygments_lexer": "ipython3",
   "version": "3.9.12"
  }
 },
 "nbformat": 4,
 "nbformat_minor": 5
}
