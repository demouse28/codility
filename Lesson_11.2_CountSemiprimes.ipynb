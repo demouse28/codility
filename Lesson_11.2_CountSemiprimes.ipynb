{
 "cells": [
  {
   "cell_type": "markdown",
   "id": "d79a7889",
   "metadata": {},
   "source": [
    "# CountSemiprimes (55%, 100% Correctness, 20% Performance)"
   ]
  },
  {
   "cell_type": "markdown",
   "id": "76d2db0b",
   "metadata": {},
   "source": [
    "## Task"
   ]
  },
  {
   "cell_type": "markdown",
   "id": "692e21e8",
   "metadata": {},
   "source": [
    "A prime is a positive integer X that has exactly two distinct divisors: 1 and X. The first few prime integers are 2, 3, 5, 7, 11 and 13.\n",
    "\n",
    "A semiprime is a natural number that is the product of two (not necessarily distinct) prime numbers. The first few semiprimes are 4, 6, 9, 10, 14, 15, 21, 22, 25, 26.\n",
    "\n",
    "You are given two non-empty arrays P and Q, each consisting of M integers. These arrays represent queries about the number of semiprimes within specified ranges.\n",
    "\n",
    "Query K requires you to find the number of semiprimes within the range (P[K], Q[K]), where 1 ≤ P[K] ≤ Q[K] ≤ N.\n",
    "\n",
    "For example, consider an integer N = 26 and arrays P, Q such that:\n",
    "\n",
    "    P[0] = 1    Q[0] = 26\n",
    "    P[1] = 4    Q[1] = 10\n",
    "    P[2] = 16   Q[2] = 20\n",
    "The number of semiprimes within each of these ranges is as follows:\n",
    "\n",
    "(1, 26) is 10,\n",
    "(4, 10) is 4,\n",
    "(16, 20) is 0.\n",
    "Write a function:\n",
    "\n",
    "def solution(N, P, Q)\n",
    "\n",
    "that, given an integer N and two non-empty arrays P and Q consisting of M integers, returns an array consisting of M elements specifying the consecutive answers to all the queries.\n",
    "\n",
    "For example, given an integer N = 26 and arrays P, Q such that:\n",
    "\n",
    "    P[0] = 1    Q[0] = 26\n",
    "    P[1] = 4    Q[1] = 10\n",
    "    P[2] = 16   Q[2] = 20\n",
    "the function should return the values [10, 4, 0], as explained above.\n",
    "\n",
    "Write an efficient algorithm for the following assumptions:\n",
    "\n",
    "N is an integer within the range [1..50,000];\n",
    "M is an integer within the range [1..30,000];\n",
    "each element of arrays P and Q is an integer within the range [1..N];\n",
    "P[i] ≤ Q[i].\n"
   ]
  },
  {
   "cell_type": "markdown",
   "id": "af09ab34",
   "metadata": {},
   "source": [
    "## Solution"
   ]
  },
  {
   "cell_type": "code",
   "execution_count": 1,
   "id": "5d47b08a",
   "metadata": {},
   "outputs": [],
   "source": [
    "def solution(N, P, Q):\n",
    "    # Implement your solution here\n",
    "    \n",
    "    if N == 1:\n",
    "        return [0] * len(P)\n",
    "    \n",
    "    primes_bool = [True] * ((N // 2) + 1)\n",
    "    primes_bool[0] = False\n",
    "    primes_bool[1] = False\n",
    "\n",
    "    for i in range(2, int((N // 2) ** 0.5) + 1):\n",
    "\n",
    "        if primes_bool[i]:\n",
    "\n",
    "            for j in range(i * i, (N // 2) + 1, i):\n",
    "                primes_bool[j] = False\n",
    "\n",
    "    primes = []\n",
    "\n",
    "    for i in range((N // 2) + 1):\n",
    "\n",
    "        if primes_bool[i]:\n",
    "            primes.append(i)\n",
    "\n",
    "    semiprimes = set()\n",
    "\n",
    "    for i in range(len(primes)):\n",
    "\n",
    "        for j in primes[i:]:\n",
    "\n",
    "            semiprime = primes[i] * j\n",
    "\n",
    "            if semiprime <= N:\n",
    "                semiprimes.add(semiprime)\n",
    "                \n",
    "            else:\n",
    "                break\n",
    "\n",
    "    semiprimes = sorted(semiprimes)\n",
    "\n",
    "    counts = []\n",
    "\n",
    "    for i, j in zip(P, Q):\n",
    "\n",
    "        count = 0\n",
    "\n",
    "        for k in semiprimes:\n",
    "\n",
    "            if i <= k <= j:\n",
    "                count += 1\n",
    "                \n",
    "            elif k > j:\n",
    "                break\n",
    "\n",
    "        counts.append(count)\n",
    "\n",
    "    return counts"
   ]
  },
  {
   "cell_type": "markdown",
   "id": "dbfa22ea",
   "metadata": {},
   "source": [
    "## Test"
   ]
  },
  {
   "cell_type": "code",
   "execution_count": 2,
   "id": "e6542b3d",
   "metadata": {},
   "outputs": [],
   "source": [
    "N = 26\n",
    "P = [1, 4, 16]\n",
    "Q = [26, 10, 20]"
   ]
  },
  {
   "cell_type": "code",
   "execution_count": 3,
   "id": "86de3c35",
   "metadata": {},
   "outputs": [
    {
     "data": {
      "text/plain": [
       "[10, 4, 0]"
      ]
     },
     "execution_count": 3,
     "metadata": {},
     "output_type": "execute_result"
    }
   ],
   "source": [
    "solution(N, P, Q)"
   ]
  }
 ],
 "metadata": {
  "kernelspec": {
   "display_name": "Python 3 (ipykernel)",
   "language": "python",
   "name": "python3"
  },
  "language_info": {
   "codemirror_mode": {
    "name": "ipython",
    "version": 3
   },
   "file_extension": ".py",
   "mimetype": "text/x-python",
   "name": "python",
   "nbconvert_exporter": "python",
   "pygments_lexer": "ipython3",
   "version": "3.9.12"
  }
 },
 "nbformat": 4,
 "nbformat_minor": 5
}
