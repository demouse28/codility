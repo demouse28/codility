{
 "cells": [
  {
   "cell_type": "markdown",
   "id": "720aad92",
   "metadata": {},
   "source": [
    "# MaxDoubleSliceSum"
   ]
  },
  {
   "cell_type": "markdown",
   "id": "c01a2375",
   "metadata": {},
   "source": [
    "## Task"
   ]
  },
  {
   "cell_type": "markdown",
   "id": "a807e5da",
   "metadata": {},
   "source": [
    "A non-empty array A consisting of N integers is given.\n",
    "\n",
    "A triplet (X, Y, Z), such that 0 ≤ X < Y < Z < N, is called a double slice.\n",
    "\n",
    "The sum of double slice (X, Y, Z) is the total of A[X + 1] + A[X + 2] + ... + A[Y − 1] + A[Y + 1] + A[Y + 2] + ... + A[Z − 1].\n",
    "\n",
    "For example, array A such that:\n",
    "\n",
    "    A[0] = 3\n",
    "    A[1] = 2\n",
    "    A[2] = 6\n",
    "    A[3] = -1\n",
    "    A[4] = 4\n",
    "    A[5] = 5\n",
    "    A[6] = -1\n",
    "    A[7] = 2\n",
    "contains the following example double slices:\n",
    "\n",
    "double slice (0, 3, 6), sum is 2 + 6 + 4 + 5 = 17,\n",
    "double slice (0, 3, 7), sum is 2 + 6 + 4 + 5 − 1 = 16,\n",
    "double slice (3, 4, 5), sum is 0.\n",
    "The goal is to find the maximal sum of any double slice.\n",
    "\n",
    "Write a function:\n",
    "\n",
    "def solution(A)\n",
    "\n",
    "that, given a non-empty array A consisting of N integers, returns the maximal sum of any double slice.\n",
    "\n",
    "For example, given:\n",
    "\n",
    "    A[0] = 3\n",
    "    A[1] = 2\n",
    "    A[2] = 6\n",
    "    A[3] = -1\n",
    "    A[4] = 4\n",
    "    A[5] = 5\n",
    "    A[6] = -1\n",
    "    A[7] = 2\n",
    "the function should return 17, because no double slice of array A has a sum of greater than 17.\n",
    "\n",
    "Write an efficient algorithm for the following assumptions:\n",
    "\n",
    "N is an integer within the range [3..100,000];\n",
    "each element of array A is an integer within the range [−10,000..10,000]."
   ]
  },
  {
   "cell_type": "code",
   "execution_count": 1,
   "id": "2eca316d",
   "metadata": {},
   "outputs": [],
   "source": [
    "def solution(A):\n",
    "    # Implement your solution here\n",
    "    \n",
    "    max_left = [0] * len(A)\n",
    "    max_right = [0] * len(A)\n",
    "    \n",
    "    for i in range(1, len(A) - 1):\n",
    "        max_left[i] = max(0, max_left[i - 1] + A[i])\n",
    "        \n",
    "    for i in range(len(A) - 2, 0, -1):\n",
    "        max_right[i] = max(0, max_right[i + 1] + A[i])\n",
    "    \n",
    "    max_sum = 0\n",
    "    \n",
    "    for i in range(1, len(A) - 1):\n",
    "        max_sum = max(max_sum, max_left[i - 1] + max_right[i + 1])\n",
    "        \n",
    "    return max_sum"
   ]
  },
  {
   "cell_type": "code",
   "execution_count": 2,
   "id": "b77c1197",
   "metadata": {},
   "outputs": [],
   "source": [
    "A = [3, 2, 6, -1, 4, 5, -1, 2]"
   ]
  },
  {
   "cell_type": "code",
   "execution_count": 3,
   "id": "cbff5b5f",
   "metadata": {},
   "outputs": [
    {
     "data": {
      "text/plain": [
       "17"
      ]
     },
     "execution_count": 3,
     "metadata": {},
     "output_type": "execute_result"
    }
   ],
   "source": [
    "solution(A)"
   ]
  }
 ],
 "metadata": {
  "kernelspec": {
   "display_name": "Python 3 (ipykernel)",
   "language": "python",
   "name": "python3"
  },
  "language_info": {
   "codemirror_mode": {
    "name": "ipython",
    "version": 3
   },
   "file_extension": ".py",
   "mimetype": "text/x-python",
   "name": "python",
   "nbconvert_exporter": "python",
   "pygments_lexer": "ipython3",
   "version": "3.9.12"
  }
 },
 "nbformat": 4,
 "nbformat_minor": 5
}
